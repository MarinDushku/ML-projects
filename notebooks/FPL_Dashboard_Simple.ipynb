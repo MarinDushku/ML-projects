{
 "cells": [
  {
   "cell_type": "markdown",
   "metadata": {
    "id": "header"
   },
   "source": [
    "# 📊 FPL-AI Interactive Dashboard Demo\n",
    "\n",
    "## Overview\n",
    "Interactive dashboard for Fantasy Premier League predictions and analysis:\n",
    "- **Player Analysis**: Deep dive into individual predictions\n",
    "- **Team Optimizer**: Budget-constrained squad builder\n",
    "- **Captain Selector**: Advanced captaincy recommendations\n",
    "\n",
    "## Features:\n",
    "- 🎯 **Real-time Predictions**: Latest player point forecasts\n",
    "- 💰 **Budget Optimization**: £100M squad building with constraints\n",
    "- 🏆 **Captain Intelligence**: Data-driven captaincy decisions"
   ]
  },
  {
   "cell_type": "code",
   "execution_count": null,
   "metadata": {
    "id": "cell_1_setup"
   },
   "outputs": [],
   "source": [
    "# Cell 1: Dashboard Setup and Dependencies\n",
    "print(\"📊 Setting up FPL-AI Interactive Dashboard...\")\n",
    "\n",
    "# Install dashboard packages\n",
    "!pip install -q plotly ipywidgets\n",
    "!pip install -q pandas numpy\n",
    "\n",
    "# Mount Google Drive\n",
    "from google.colab import drive\n",
    "drive.mount('/content/drive')\n",
    "\n",
    "# Set project directory\n",
    "import os\n",
    "project_dir = '/content/drive/MyDrive/FPL_AI_Project'\n",
    "os.chdir(project_dir)\n",
    "\n",
    "print(\"✅ Dashboard environment setup complete!\")\n",
    "print(f\"📁 Working directory: {os.getcwd()}\")"
   ]
  },
  {
   "cell_type": "code",
   "execution_count": null,
   "metadata": {
    "id": "cell_2_load_data"
   },
   "outputs": [],
   "source": [
    "# Cell 2: Load Data and Create Dashboard\n",
    "import pandas as pd\n",
    "import numpy as np\n",
    "import plotly.express as px\n",
    "import plotly.graph_objects as go\n",
    "from plotly.subplots import make_subplots\n",
    "import glob\n",
    "\n",
    "print(\"📚 Libraries loaded successfully!\")\n",
    "\n",
    "# Load collected data\n",
    "player_files = glob.glob('data/raw/*players*.csv')\n",
    "if player_files:\n",
    "    latest_players = max(player_files, key=os.path.getctime)\n",
    "    players_df = pd.read_csv(latest_players)\n",
    "    print(f\"✅ Loaded {len(players_df)} players\")\n",
    "    \n",
    "    # Convert price to millions\n",
    "    players_df['price_millions'] = players_df['now_cost'] / 10\n",
    "    \n",
    "    # Create analysis dashboard\n",
    "    fig = make_subplots(\n",
    "        rows=2, cols=2,\n",
    "        subplot_titles=['Price vs Points', 'Players by Position', \n",
    "                       'Price Distribution', 'Top Scorers'],\n",
    "        specs=[[{\"type\": \"scatter\"}, {\"type\": \"bar\"}],\n",
    "               [{\"type\": \"histogram\"}, {\"type\": \"bar\"}]]\n",
    "    )\n",
    "    \n",
    "    # Price vs Points scatter\n",
    "    for position in players_df['position'].unique():\n",
    "        pos_data = players_df[players_df['position'] == position]\n",
    "        fig.add_trace(\n",
    "            go.Scatter(\n",
    "                x=pos_data['price_millions'],\n",
    "                y=pos_data['total_points'],\n",
    "                mode='markers',\n",
    "                name=position,\n",
    "                text=pos_data['web_name']\n",
    "            ),\n",
    "            row=1, col=1\n",
    "        )\n",
    "    \n",
    "    # Players by position\n",
    "    position_counts = players_df['position'].value_counts()\n",
    "    fig.add_trace(\n",
    "        go.Bar(\n",
    "            x=position_counts.index,\n",
    "            y=position_counts.values,\n",
    "            showlegend=False\n",
    "        ),\n",
    "        row=1, col=2\n",
    "    )\n",
    "    \n",
    "    # Price distribution\n",
    "    fig.add_trace(\n",
    "        go.Histogram(\n",
    "            x=players_df['price_millions'],\n",
    "            nbinsx=20,\n",
    "            showlegend=False\n",
    "        ),\n",
    "        row=2, col=1\n",
    "    )\n",
    "    \n",
    "    # Top scorers\n",
    "    top_scorers = players_df.nlargest(10, 'total_points')\n",
    "    fig.add_trace(\n",
    "        go.Bar(\n",
    "            x=top_scorers['web_name'],\n",
    "            y=top_scorers['total_points'],\n",
    "            showlegend=False\n",
    "        ),\n",
    "        row=2, col=2\n",
    "    )\n",
    "    \n",
    "    fig.update_layout(height=800, title_text=\"FPL Player Analysis Dashboard\")\n",
    "    fig.show()\n",
    "    \n",
    "    print(\"\\n🎉 FPL-AI Dashboard Demo Complete!\")\n",
    "    \n",
    "else:\n",
    "    print(\"❌ No player data found. Please run data collection first.\")"
   ]
  }
 ],
 "metadata": {
  "kernelspec": {
   "display_name": "Python 3",
   "language": "python",
   "name": "python3"
  },
  "language_info": {
   "codemirror_mode": {
    "name": "ipython",
    "version": 3
   },
   "file_extension": ".py",
   "mimetype": "text/x-python",
   "name": "python",
   "nbconvert_exporter": "python",
   "pygments_lexer": "ipython3",
   "version": "3.8.5"
  },
  "colab": {
   "provenance": [],
   "gpuType": "T4"
  },
  "accelerator": "GPU"
 }
}